{
 "cells": [
  {
   "cell_type": "code",
   "execution_count": 16,
   "metadata": {},
   "outputs": [],
   "source": [
    "import numpy as np\n",
    "import matplotlib.pyplot as plt\n",
    "import pandas as pd\n",
    "from jira import JIRA\n",
    "import requests\n",
    "class Jira(object):\n",
    "    options = {\n",
    "        'server':'https://aptude.atlassian.net'\n",
    "    }\n",
    "    client = None\n",
    "    def __init__(self, **kwargs):\n",
    "        self.__username = kwargs['username']\n",
    "        self.__password = kwargs['password']\n",
    "        try:\n",
    "            self.client = JIRA(self.options, basic_auth=(self.__username, self.__password))\n",
    "        except:\n",
    "            raise JiraException('Could not connect to the API, invalid username or password!') from None        \n",
    "    def getProjects(self, raw = False):\n",
    "        Projects = pd.DataFrame()\n",
    "        P = pd.DataFrame()\n",
    "        for project in self.client.projects():\n",
    "            if raw:\n",
    "                P = Projects.append(project)\n",
    "            else:\n",
    "                a = Projects.append(pd.Series([project.key,project.name],index=['Project Key','Name']),ignore_index=True)\n",
    "                P = P.append(a)\n",
    "        return P\n",
    "\n",
    "    def getIssues(self, maxResults = 10, raw = False, **kwargs):\n",
    "        Issues = pd.DataFrame()\n",
    "        I = pd.DataFrame()\n",
    "        searchstring = ' '.join([( _ + \"=\" + kwargs[_]) if _ != 'condition' else kwargs[_] for _ in kwargs])\n",
    "        for item in self.client.search_issues(searchstring, maxResults = maxResults):\n",
    "            if raw:\n",
    "                I = Issues.append(item)\n",
    "            else:\n",
    "                a = Issues.append(pd.Series([item.fields.assignee, item.fields.summary, item.fields.description, item.fields.status, item.fields.created],index = ['Assignee', 'Title', 'Description', 'Status', 'Start Date']),ignore_index=True)\n",
    "                I = I.append(a)                  \n",
    "        return I"
   ]
  },
  {
   "cell_type": "code",
   "execution_count": 17,
   "metadata": {},
   "outputs": [
    {
     "name": "stdout",
     "output_type": "stream",
     "text": [
      "enter Username\n",
      "rkunchakuri@aptude.com\n",
      "\n",
      "\n",
      "enter Password\n",
      "gXjUPCbVna6WRP9f9xvh986F\n",
      "\n",
      "\n",
      "                Name Project Key\n",
      "0             aptude          AP\n",
      "0  Aptude Team Edgar         APT\n",
      "0          Schneider   SCHNEIDER\n",
      "\n",
      "\n",
      "Enter the Project Key to get further details\n",
      "AP\n",
      "\n",
      "\n",
      "      Assignee                                        Description  \\\n",
      "0  rkunchakuri  Keys needed in a word table\\r\\n\\r\\nUser Story ...   \n",
      "0  rkunchakuri  Create one function by now:\\r\\n\\r\\n`get_open_t...   \n",
      "\n",
      "                     Start Date       Status  \\\n",
      "0  2020-11-24T13:35:25.282-0600  In Progress   \n",
      "0  2020-11-05T13:12:52.725-0600         Done   \n",
      "\n",
      "                                               Title  \n",
      "0  Drop the info get by tha Jira API into a word ...  \n",
      "0    Create helpers to get information from JIRA API  \n"
     ]
    }
   ],
   "source": [
    "print(\"enter Username\")\n",
    "#rkunchakuri@aptude.com\n",
    "u=input()\n",
    "print(\"\\n\")\n",
    "print(\"enter Password\")\n",
    "#gXjUPCbVna6WRP9f9xvh986F\n",
    "p=input()\n",
    "print(\"\\n\")\n",
    "MyJira = Jira(username= u, password=p)\n",
    "print(MyJira.getProjects())\n",
    "print(\"\\n\")\n",
    "print(\"Enter the Project Key to get further details\")\n",
    "key = input()\n",
    "print(\"\\n\")\n",
    "print(MyJira.getIssues(project=key))"
   ]
  }
 ],
 "metadata": {
  "kernelspec": {
   "display_name": "Python 3",
   "language": "python",
   "name": "python3"
  },
  "language_info": {
   "codemirror_mode": {
    "name": "ipython",
    "version": 3
   },
   "file_extension": ".py",
   "mimetype": "text/x-python",
   "name": "python",
   "nbconvert_exporter": "python",
   "pygments_lexer": "ipython3",
   "version": "3.7.4"
  }
 },
 "nbformat": 4,
 "nbformat_minor": 2
}
