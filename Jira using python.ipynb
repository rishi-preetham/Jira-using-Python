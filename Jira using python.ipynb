{
 "cells": [
  {
   "cell_type": "code",
   "execution_count": 1,
   "metadata": {},
   "outputs": [],
   "source": [
    "from jira import JIRA\n",
    "import requests\n",
    "class Jira(object):\n",
    "    options = {\n",
    "        'server':'https://companyname.atlassian.net'\n",
    "    }\n",
    "    client = None\n",
    "    def __init__(self, **kwargs):\n",
    "        self.__username = kwargs['username']\n",
    "        self.__password = kwargs['password']\n",
    "        try:\n",
    "            self.client = JIRA(self.options, basic_auth=(self.__username, self.__password))\n",
    "        except:\n",
    "            raise JiraException('Could not connect to the API, invalid username or password!') from None        \n",
    "    def getProjects(self, raw = False):\n",
    "        Projects = []\n",
    "        for project in self.client.projects():\n",
    "            if raw:\n",
    "                Projects.append(project)\n",
    "            else:\n",
    "                Projects.append({ 'Name':project.key, 'Description':project.name })\n",
    "        return Projects\n",
    "\n",
    "    def getIssues(self, maxResults = 10, raw = False, **kwargs):\n",
    "        Issues = []\n",
    "        searchstring = ' '.join([( _ + \"=\" + kwargs[_]) if _ != 'condition' else kwargs[_] for _ in kwargs])\n",
    "        for item in self.client.search_issues(searchstring, maxResults = maxResults):\n",
    "            if raw:\n",
    "                Issues.append(item)\n",
    "            else:\n",
    "                Issues.append({'Assignee':item.fields.assignee,'Summary':item.fields.summary})\n",
    "        return Issues\n"
   ]
  },
  {
   "cell_type": "code",
   "execution_count": null,
   "metadata": {},
   "outputs": [
    {
     "name": "stdout",
     "output_type": "stream",
     "text": [
      "enter Username\n"
     ]
    }
   ],
   "source": [
    "print(\"enter Username\")\n",
    "u=input()\n",
    "print(\"\\n\")\n",
    "print(\"enter Password\")\n",
    "p=input()\n",
    "print(\"\\n\")\n",
    "MyJira = Jira(username= n, password=p)\n",
    "print(MyJira.getProjects())\n",
    "print(MyJira.getIssues(project='AP',condition='AND',status='BACKLOG'))"
   ]
  },
  {
   "cell_type": "code",
   "execution_count": null,
   "metadata": {},
   "outputs": [],
   "source": []
  }
 ],
 "metadata": {
  "kernelspec": {
   "display_name": "Python 3",
   "language": "python",
   "name": "python3"
  },
  "language_info": {
   "codemirror_mode": {
    "name": "ipython",
    "version": 3
   },
   "file_extension": ".py",
   "mimetype": "text/x-python",
   "name": "python",
   "nbconvert_exporter": "python",
   "pygments_lexer": "ipython3",
   "version": "3.7.4"
  }
 },
 "nbformat": 4,
 "nbformat_minor": 2
}
